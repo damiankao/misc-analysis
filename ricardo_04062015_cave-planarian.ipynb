{
 "metadata": {
  "name": "",
  "signature": "sha256:3fd4e5b11578f50594685187341fee215478522a4315343eaac4824d5361b93a"
 },
 "nbformat": 3,
 "nbformat_minor": 0,
 "worksheets": [
  {
   "cells": [
    {
     "cell_type": "code",
     "collapsed": false,
     "input": [
      "import gzip, os, sys\n",
      "#import custom functions for displaying tables, bash commands\n",
      "sys.path.append(os.path.abspath(\"/home/damian/\"))\n",
      "from dk_ipython import *\n",
      "from IPython.display import HTML\n",
      "import pandas as pd\n",
      "import seaborn as sns\n",
      "import matplotlib.pyplot as plt\n",
      "import scipy.stats as ss\n",
      "import scipy as sp\n",
      "\n",
      "%matplotlib inline\n",
      "HTML(addToggle())"
     ],
     "language": "python",
     "metadata": {},
     "outputs": [
      {
       "html": [
        "<script>\n",
        "code_show=true;\n",
        "function code_toggle() {\n",
        " if (code_show){\n",
        " $('div.input').hide();\n",
        " } else {\n",
        " $('div.input').show();\n",
        " }\n",
        " code_show = !code_show\n",
        "}\n",
        "\n",
        "$( document ).ready(code_toggle);\n",
        "</script>\n",
        "The raw code for this IPython notebook is by default hidden for easier reading.\n",
        "To toggle on/off the raw code, click <a href=\"javascript:code_toggle()\">here</a>."
       ],
       "metadata": {},
       "output_type": "pyout",
       "prompt_number": 1,
       "text": [
        "<IPython.core.display.HTML at 0x3e80450>"
       ]
      }
     ],
     "prompt_number": 1
    },
    {
     "cell_type": "markdown",
     "metadata": {},
     "source": [
      "## Transcriptome analysis of cave planarians\n",
      "\n",
      "Two pair-end samples were sequenced. Intact and regenerants. Trimming reads with trimmomatic:\n",
      "\n",
      "    java -jar /home/share/software/Trimmomatic-0.32/trimmomatic-0.32.jar PE -threads 6 -phred33 /data/ngs/cave/Cave_Intact_TAGCTT_L004_R1_001.fastq.gz /data/ngs/cave/Cave_Intact_TAGCTT_L004_R2_001.fastq.gz /data/ngs/cave/intact.paired.r1.fastq.gz /data/ngs/cave/intact.unpaired.r1.fastq.gz /data/ngs/cave/intact.paired.r2.fastq.gz /data/ngs/cave/intact.unpaired.r2.fastq.gz LEADING:20 TRAILING:20 MINLEN:30 ILLUMINACLIP:/home/share/software/Trimmomatic-0.32/adapters/adapters.fa:2:30:12:1:false TOPHRED33\n",
      "    java -jar /home/share/software/Trimmomatic-0.32/trimmomatic-0.32.jar PE -threads 6 -phred33 /data/ngs/cave/Cave_Regen_GTGGCC_L004_R1_001.fastq.gz /data/ngs/cave/Cave_Regen_GTGGCC_L004_R2_001.fastq.gz /data/ngs/cave/regen.paired.r1.fastq.gz /data/ngs/cave/regen.unpaired.r1.fastq.gz /data/ngs/cave/regen.paired.r2.fastq.gz /data/ngs/cave/regen.unpaired.r2.fastq.gz LEADING:20 TRAILING:20 MINLEN:30 ILLUMINACLIP:/home/share/software/Trimmomatic-0.32/adapters/adapters.fa:2:30:12:1:false TOPHRED33\n",
      "    \n",
      "After trimming:\n",
      "\n",
      "    Library             # reads        Total bases\n",
      "    intact paired r1    14,202,998     1,417,051,020\n",
      "    intact paired r2    14,202,998     1,411,924,049\n",
      "    \n",
      "    regen paired r1     15,185,142     1,513,651,878\n",
      "    regen paired r2     15,185,142     1,508,731,683\n",
      "\n",
      "    intact unpaired r1  182,148        13,789,432\n",
      "    intact unpaired r2  462,710        36,351,368\n",
      "    \n",
      "    regen unpaired r1   224,603        16,415,837\n",
      "    regen unpaired r2   684,737        54,321,668\n",
      "    \n",
      "### Assembly with trinity predict likely coding genes with TransDecoder\n",
      "\n",
      " - Trimmed reads were input into trinity and ran with default settings. 96,020 transcripts were assembled. \n",
      "\n",
      " - TransDecoder on default settings found 52,935 ORFs (> 100 aa). Blasted these ORFs to Uniprot and scanned through PFAM. \n",
      "\n",
      " - 31,548 ORFs has a hit < 1e-5 to a Uniprot protein. This represents 14,122 Trinity assembled transcripts. \n",
      " \n",
      " - 25,796 ORFs has a hit (gathering threshold) to a PFAM domain. This represents 12,646 Trinity assembled transcripts.\n",
      " \n",
      " - TransDecoder, using blast and PFAM prediceted a final 45,545 transcripts representing 18,323 Trinity assembled transcripts.\n",
      " \n",
      " - The amount of ORFs predicted from each transcript was high. This might mean a lot of transcript fusion by Trinity or sequencing errors causing stop codons.\n",
      " \n",
      "## Hits to S. med\n",
      "\n",
      " - 39,544 of the TransDecoder transcripts has a hit to 19,494 S. med transcripts (tblastx < 1e-5). \n",
      " - High levels of fragmentation or redundancy in the transcriptome assembly. \n",
      " "
     ]
    }
   ],
   "metadata": {}
  }
 ]
}