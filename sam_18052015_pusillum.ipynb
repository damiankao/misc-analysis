{
 "metadata": {
  "name": "",
  "signature": "sha256:8a3d707a39ea252bf161aebded685492482e5108a9e7ec544a8a0232ecc472d7"
 },
 "nbformat": 3,
 "nbformat_minor": 0,
 "worksheets": [
  {
   "cells": [
    {
     "cell_type": "markdown",
     "metadata": {},
     "source": [
      "## M. Pusillum genome and transcriptome\n"
     ]
    },
    {
     "cell_type": "code",
     "collapsed": false,
     "input": [
      "import gzip, os, sys\n",
      "#import custom functions for displaying tables, bash commands\n",
      "sys.path.append(os.path.abspath(\"/home/damian/\"))\n",
      "from dk_ipython import *\n",
      "from IPython.display import HTML\n",
      "import pandas as pd\n",
      "import seaborn as sns\n",
      "import matplotlib.pyplot as plt\n",
      "import scipy.stats as ss\n",
      "import scipy as sp\n",
      "\n",
      "%matplotlib inline\n",
      "HTML(addToggle())"
     ],
     "language": "python",
     "metadata": {},
     "outputs": [
      {
       "html": [
        "<script>\n",
        "code_show=true;\n",
        "function code_toggle() {\n",
        " if (code_show){\n",
        " $('div.input').hide();\n",
        " } else {\n",
        " $('div.input').show();\n",
        " }\n",
        " code_show = !code_show\n",
        "}\n",
        "\n",
        "$( document ).ready(code_toggle);\n",
        "</script>\n",
        "The raw code for this IPython notebook is by default hidden for easier reading.\n",
        "To toggle on/off the raw code, click <a href=\"javascript:code_toggle()\">here</a>."
       ],
       "metadata": {},
       "output_type": "pyout",
       "prompt_number": 2,
       "text": [
        "<IPython.core.display.HTML at 0x39f34d0>"
       ]
      }
     ],
     "prompt_number": 2
    },
    {
     "cell_type": "code",
     "collapsed": false,
     "input": [
      "transcriptome = '/home/share/transcriptome/mpus/MPRNA141210.all.fasta'\n",
      "genome = '/home/share/genome/mpus/MPDNA141006.scf.fasta'"
     ],
     "language": "python",
     "metadata": {},
     "outputs": [],
     "prompt_number": 3
    },
    {
     "cell_type": "code",
     "collapsed": false,
     "input": [
      "from Bio import SeqIO\n",
      "\n",
      "transFa = open(transcriptome)\n",
      "genomeFa = open(genome)\n",
      "\n",
      "tranLengths = []\n",
      "for record in SeqIO.parse(transFa,'fasta'):\n",
      "    tranLengths.append(len(str(record.seq)))\n",
      "    \n",
      "genomeLengths = []\n",
      "for record in SeqIO.parse(genomeFa,'fasta'):\n",
      "    genomeLengths.append(len(str(record.seq)))"
     ],
     "language": "python",
     "metadata": {},
     "outputs": [],
     "prompt_number": 4
    },
    {
     "cell_type": "code",
     "collapsed": false,
     "input": [
      "import math\n",
      "def nX(lengths):\n",
      "    bpCount = 0\n",
      "    totalCount = sum(lengths)\n",
      "    nx = {}\n",
      "\n",
      "    for l in lengths:\n",
      "        bpCount += l\n",
      "        xPercent = math.floor(float(bpCount) / totalCount * 100)\n",
      "        \n",
      "        if not nx.has_key(xPercent):\n",
      "            nx[xPercent] = l\n",
      "            \n",
      "    nx = nx.items()\n",
      "    nx.sort(key = lambda x : x[0])\n",
      "    return nx"
     ],
     "language": "python",
     "metadata": {},
     "outputs": [],
     "prompt_number": 7
    },
    {
     "cell_type": "code",
     "collapsed": false,
     "input": [
      "gnx = nX(genomeLengths)\n",
      "\n",
      "print 'Transcriptome'\n",
      "print 'Number of transcripts:', commas(len(tranLengths))\n",
      "print\n",
      "print 'Genome'\n",
      "print 'Number of scaffolds:', commas(len(genomeLengths))\n",
      "print 'Assembly sum bases:', commas(sum(genomeLengths))\n",
      "for i in range(10):\n",
      "    print 'N' + str(i * 10) + ':', commas(int(gnx[i * 10][1]))"
     ],
     "language": "python",
     "metadata": {},
     "outputs": [
      {
       "output_type": "stream",
       "stream": "stdout",
       "text": [
        "Transcriptome\n",
        "Number of transcripts: 96,327\n",
        "\n",
        "Genome\n",
        "Number of scaffolds: 115,972\n",
        "Assembly sum bases: 567,654,329\n",
        "N0: 73,756\n",
        "N10: 20,390\n",
        "N20: 27,417\n",
        "N30: 19,790\n",
        "N40: 6,790\n",
        "N50: 21,474\n",
        "N60: 15,388\n",
        "N70: 16,219\n",
        "N80: 13,411\n",
        "N90: 18,398\n"
       ]
      }
     ],
     "prompt_number": 8
    },
    {
     "cell_type": "code",
     "collapsed": false,
     "input": [
      "gmapFile = open('/home/share/transcriptome/mpus/MPRNA141210.all.gmap')\n",
      "tids = {}\n",
      "for line in gmapFile:\n",
      "    if line[0] != '#':\n",
      "        meta = line.strip().split('\\t')\n",
      "        if meta[2] == 'mRNA':\n",
      "            tid = meta[-1].split(';')[1].split('=')[1]\n",
      "            cov = meta[-1].split(';')[3].split('=')[1]\n",
      "            ident = meta[-1].split(';')[4].split('=')[1]\n",
      "            tids[tid] = (float(cov), float(ident))"
     ],
     "language": "python",
     "metadata": {},
     "outputs": [],
     "prompt_number": 16
    },
    {
     "cell_type": "code",
     "collapsed": false,
     "input": [
      "print 'Number of transcripts mapped:', commas(len(tids)) + ' (' + str(float(len(tids)) / len(tranLengths) * 100) + '%)'\n",
      "print 'Average coverage of mapped transcripts:', str(sum([x[0] for x in tids.values()]) / len(tids))\n",
      "print 'Average identity of mapped transcripts:', str(sum([x[1] for x in tids.values()]) / len(tids))"
     ],
     "language": "python",
     "metadata": {},
     "outputs": [
      {
       "output_type": "stream",
       "stream": "stdout",
       "text": [
        "Number of transcripts mapped: 90,913 (94.379561286%)\n",
        "Average coverage of mapped transcripts: 86.2642075391\n",
        "Average identity of mapped transcripts: "
       ]
      },
      {
       "output_type": "stream",
       "stream": "stdout",
       "text": [
        "98.9586263791\n"
       ]
      }
     ],
     "prompt_number": 26
    },
    {
     "cell_type": "markdown",
     "metadata": {},
     "source": [
      "## CEGMA completeness\n",
      "\n",
      "                    #Prots  %Completeness  -  #Total  Average  %Ortho \n",
      "\n",
      "      Complete      179       72.18      -   236     1.32     25.14\n",
      "\n",
      "       Group 1       46       69.70      -    57     1.24     23.91\n",
      "       Group 2       36       64.29      -    49     1.36     27.78\n",
      "       Group 3       42       68.85      -    54     1.29     23.81\n",
      "       Group 4       55       84.62      -    76     1.38     25.45\n",
      "\n",
      "       Partial      226       91.13      -   343     1.52     35.40\n",
      "\n",
      "       Group 1       56       84.85      -    74     1.32     25.00\n",
      "       Group 2       49       87.50      -    76     1.55     34.69\n",
      "       Group 3       57       93.44      -    83     1.46     36.84\n",
      "       Group 4       64       98.46      -   110     1.72     43.75"
     ]
    }
   ],
   "metadata": {}
  }
 ]
}