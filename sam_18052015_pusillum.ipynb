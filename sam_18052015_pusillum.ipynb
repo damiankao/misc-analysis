{
 "metadata": {
  "name": "",
  "signature": "sha256:907cca9a49bd95f12597bee8d53942882afad72b1cf7bb61a45fc8d8463ab5b4"
 },
 "nbformat": 3,
 "nbformat_minor": 0,
 "worksheets": [
  {
   "cells": [
    {
     "cell_type": "markdown",
     "metadata": {},
     "source": [
      "## M. Pusillum genome and transcriptome\n"
     ]
    },
    {
     "cell_type": "code",
     "collapsed": false,
     "input": [
      "import gzip, os, sys\n",
      "#import custom functions for displaying tables, bash commands\n",
      "sys.path.append(os.path.abspath(\"/home/damian/\"))\n",
      "from dk_ipython import *\n",
      "from IPython.display import HTML\n",
      "import pandas as pd\n",
      "import seaborn as sns\n",
      "import matplotlib.pyplot as plt\n",
      "import scipy.stats as ss\n",
      "import scipy as sp\n",
      "\n",
      "%matplotlib inline\n",
      "HTML(addToggle())"
     ],
     "language": "python",
     "metadata": {},
     "outputs": [
      {
       "html": [
        "<script>\n",
        "code_show=true;\n",
        "function code_toggle() {\n",
        " if (code_show){\n",
        " $('div.input').hide();\n",
        " } else {\n",
        " $('div.input').show();\n",
        " }\n",
        " code_show = !code_show\n",
        "}\n",
        "\n",
        "$( document ).ready(code_toggle);\n",
        "</script>\n",
        "The raw code for this IPython notebook is by default hidden for easier reading.\n",
        "To toggle on/off the raw code, click <a href=\"javascript:code_toggle()\">here</a>."
       ],
       "metadata": {},
       "output_type": "pyout",
       "prompt_number": 1,
       "text": [
        "<IPython.core.display.HTML at 0x39dc490>"
       ]
      }
     ],
     "prompt_number": 1
    },
    {
     "cell_type": "code",
     "collapsed": false,
     "input": [
      "transcriptome = '/home/share/transcriptome/mpus/MPRNA141210.all.fasta'\n",
      "genome = '/home/share/genome/mpus/MPDNA141006.scf.fasta'"
     ],
     "language": "python",
     "metadata": {},
     "outputs": [],
     "prompt_number": 3
    },
    {
     "cell_type": "code",
     "collapsed": false,
     "input": [
      "from Bio import SeqIO\n",
      "\n",
      "transFa = open(transcriptome)\n",
      "genomeFa = open(genome)\n",
      "\n",
      "tranLengths = []\n",
      "for record in SeqIO.parse(transFa,'fasta'):\n",
      "    tranLengths.append(len(str(record.seq)))\n",
      "    \n",
      "genomeLengths = []\n",
      "for record in SeqIO.parse(genomeFa,'fasta'):\n",
      "    genomeLengths.append(len(str(record.seq)))"
     ],
     "language": "python",
     "metadata": {},
     "outputs": [],
     "prompt_number": 4
    },
    {
     "cell_type": "code",
     "collapsed": false,
     "input": [
      "import math\n",
      "def nX(lengths):\n",
      "    bpCount = 0\n",
      "    totalCount = sum(lengths)\n",
      "    nx = {}\n",
      "\n",
      "    for l in lengths:\n",
      "        bpCount += l\n",
      "        xPercent = math.floor(float(bpCount) / totalCount * 100)\n",
      "        \n",
      "        if not nx.has_key(xPercent):\n",
      "            nx[xPercent] = l\n",
      "            \n",
      "    nx = nx.items()\n",
      "    nx.sort(key = lambda x : x[0])\n",
      "    return nx"
     ],
     "language": "python",
     "metadata": {},
     "outputs": [],
     "prompt_number": 7
    },
    {
     "cell_type": "code",
     "collapsed": false,
     "input": [
      "gnx = nX(genomeLengths)\n",
      "\n",
      "print 'Transcriptome'\n",
      "print 'Number of transcripts:', commas(len(tranLengths))\n",
      "print\n",
      "print 'Genome'\n",
      "print 'Number of scaffolds:', commas(len(genomeLengths))\n",
      "print 'Assembly sum bases:', commas(sum(genomeLengths))\n",
      "for i in range(10):\n",
      "    print 'N' + str(i * 10) + ':', commas(int(gnx[i * 10][1]))"
     ],
     "language": "python",
     "metadata": {},
     "outputs": [
      {
       "output_type": "stream",
       "stream": "stdout",
       "text": [
        "Transcriptome\n",
        "Number of transcripts: 96,327\n",
        "\n",
        "Genome\n",
        "Number of scaffolds: 115,972\n",
        "Assembly sum bases: 567,654,329\n",
        "N0: 73,756\n",
        "N10: 20,390\n",
        "N20: 27,417\n",
        "N30: 19,790\n",
        "N40: 6,790\n",
        "N50: 21,474\n",
        "N60: 15,388\n",
        "N70: 16,219\n",
        "N80: 13,411\n",
        "N90: 18,398\n"
       ]
      }
     ],
     "prompt_number": 8
    },
    {
     "cell_type": "code",
     "collapsed": false,
     "input": [
      "gmapFile = open('/home/share/transcriptome/mpus/MPRNA141210.all.gmap')\n",
      "tids = {}\n",
      "for line in gmapFile:\n",
      "    if line[0] != '#':\n",
      "        meta = line.strip().split('\\t')\n",
      "        if meta[2] == 'mRNA':\n",
      "            tid = meta[-1].split(';')[1].split('=')[1]\n",
      "            cov = meta[-1].split(';')[3].split('=')[1]\n",
      "            ident = meta[-1].split(';')[4].split('=')[1]\n",
      "            tids[tid] = (float(cov), float(ident))"
     ],
     "language": "python",
     "metadata": {},
     "outputs": [],
     "prompt_number": 16
    },
    {
     "cell_type": "code",
     "collapsed": false,
     "input": [
      "print 'Number of transcripts mapped:', commas(len(tids)) + ' (' + str(float(len(tids)) / len(tranLengths) * 100) + '%)'\n",
      "print 'Average coverage of mapped transcripts:', str(sum([x[0] for x in tids.values()]) / len(tids))\n",
      "print 'Average identity of mapped transcripts:', str(sum([x[1] for x in tids.values()]) / len(tids))"
     ],
     "language": "python",
     "metadata": {},
     "outputs": [
      {
       "output_type": "stream",
       "stream": "stdout",
       "text": [
        "Number of transcripts mapped: 90,913 (94.379561286%)\n",
        "Average coverage of mapped transcripts: 86.2642075391\n",
        "Average identity of mapped transcripts: "
       ]
      },
      {
       "output_type": "stream",
       "stream": "stdout",
       "text": [
        "98.9586263791\n"
       ]
      }
     ],
     "prompt_number": 26
    },
    {
     "cell_type": "markdown",
     "metadata": {},
     "source": [
      "## CEGMA completeness\n",
      "\n",
      "                    #Prots  %Completeness  -  #Total  Average  %Ortho \n",
      "\n",
      "      Complete      179       72.18      -   236     1.32     25.14\n",
      "\n",
      "       Group 1       46       69.70      -    57     1.24     23.91\n",
      "       Group 2       36       64.29      -    49     1.36     27.78\n",
      "       Group 3       42       68.85      -    54     1.29     23.81\n",
      "       Group 4       55       84.62      -    76     1.38     25.45\n",
      "\n",
      "       Partial      226       91.13      -   343     1.52     35.40\n",
      "\n",
      "       Group 1       56       84.85      -    74     1.32     25.00\n",
      "       Group 2       49       87.50      -    76     1.55     34.69\n",
      "       Group 3       57       93.44      -    83     1.46     36.84\n",
      "       Group 4       64       98.46      -   110     1.72     43.75"
     ]
    },
    {
     "cell_type": "markdown",
     "metadata": {},
     "source": [
      "## Codon usage"
     ]
    },
    {
     "cell_type": "code",
     "collapsed": false,
     "input": [
      "from collections import defaultdict\n",
      "tableFile = open('/home/share/transcriptome/mpus/transcriptome.cusp')\n",
      "tableFile.next()\n",
      "tableFile.next()\n",
      "tableFile.next()\n",
      "tableFile.next()\n",
      "tableFile.next()\n",
      "tableFile.next()\n",
      "tableFile.next()\n",
      "tableFile.next()\n",
      "mpus_usage = {}\n",
      "mpus_optimalUsage = {}\n",
      "\n",
      "for line in tableFile:\n",
      "    meta = line.strip().split()\n",
      "    mpus_usage[meta[0]] = (float(meta[2]) * 100,meta[1])\n",
      "    if not mpus_optimalUsage.has_key(meta[1]):\n",
      "        mpus_optimalUsage[meta[1]] = (meta[0], float(meta[2]) * 100)\n",
      "    else:\n",
      "        if mpus_optimalUsage[meta[1]][1] < float(meta[2]) * 100:\n",
      "            mpus_optimalUsage[meta[1]] = (meta[0], float(meta[2]) * 100)\n",
      "    \n",
      "tableFile.close()"
     ],
     "language": "python",
     "metadata": {},
     "outputs": [],
     "prompt_number": 35
    },
    {
     "cell_type": "code",
     "collapsed": false,
     "input": [
      "tableFile = open('/home/share/projects/mlig_transcriptome/codonUsage/stranded.orf.nuc.longest.300.blast.cusp')\n",
      "tableFile.next()\n",
      "tableFile.next()\n",
      "tableFile.next()\n",
      "tableFile.next()\n",
      "tableFile.next()\n",
      "tableFile.next()\n",
      "tableFile.next()\n",
      "mlig_usage = {}\n",
      "mlig_optimalUsage = {}\n",
      "\n",
      "for line in tableFile:\n",
      "    meta = line.strip().split()\n",
      "    mlig_usage[meta[0]] = (float(meta[2]) * 100,meta[1])\n",
      "    if not mlig_optimalUsage.has_key(meta[1]):\n",
      "        mlig_optimalUsage[meta[1]] = (meta[0], float(meta[2]) * 100)\n",
      "    else:\n",
      "        if mlig_optimalUsage[meta[1]][1] < float(meta[2]) * 100:\n",
      "            mlig_optimalUsage[meta[1]] = (meta[0], float(meta[2]) * 100)\n",
      "    \n",
      "tableFile.close()"
     ],
     "language": "python",
     "metadata": {},
     "outputs": [],
     "prompt_number": 36
    },
    {
     "cell_type": "code",
     "collapsed": false,
     "input": [
      "print \"Codon usage differences:\"\n",
      "for aa, mlig_opt in mlig_optimalUsage.items():\n",
      "    mpus_opt = mpus_optimalUsage[aa]\n",
      "    \n",
      "    if mpus_opt[0] != mlig_opt[0]:\n",
      "        print aa\n",
      "        print 'M.pus: ' + '   '.join([item[0] + ':' + str(item[1][0]) for item in mpus_usage.items() if item[1][1] == aa])\n",
      "        print 'M.lig: ' + '   '.join([item[0] + ':' + str(item[1][0]) for item in mlig_usage.items() if item[1][1] == aa])\n",
      "        print"
     ],
     "language": "python",
     "metadata": {},
     "outputs": [
      {
       "output_type": "stream",
       "stream": "stdout",
       "text": [
        "Codon usage differences:\n",
        "A\n",
        "M.pus: GCA:39.2   GCC:15.9   GCG:14.3   GCT:30.6\n",
        "M.lig: GCA:11.3   GCC:46.1   GCG:18.6   GCT:23.9\n",
        "\n",
        "E\n",
        "M.pus: GAG:47.3   GAA:52.7\n",
        "M.lig: GAG:69.4   GAA:30.6\n",
        "\n",
        "D\n",
        "M.pus: GAT:63.6   GAC:36.4\n",
        "M.lig: GAT:31.9   GAC:68.1\n",
        "\n",
        "F\n",
        "M.pus: TTT:61.8   TTC:38.2\n",
        "M.lig: TTT:33.5   TTC:66.5\n",
        "\n",
        "I\n",
        "M.pus: ATC:25.7   ATA:27.8   ATT:46.5\n",
        "M.lig: ATC:54.3   ATA:10.2   ATT:35.5\n",
        "\n",
        "H\n",
        "M.pus: CAT:52.4   CAC:47.6\n",
        "M.lig: CAT:26.7   CAC:73.3\n",
        "\n",
        "K\n",
        "M.pus: AAG:39.5   AAA:60.5\n",
        "M.lig: AAG:64.1   AAA:35.9\n",
        "\n",
        "*\n",
        "M.pus: TAG:17.4   TGA:47.0   TAA:35.6\n",
        "M.lig: TAG:0.0   TGA:0.0   TAA:0.0\n",
        "\n",
        "N\n",
        "M.pus: AAC:33.1   AAT:66.9\n",
        "M.lig: AAC:62.0   AAT:38.0\n",
        "\n",
        "P\n",
        "M.pus: CCT:28.1   CCG:16.9   CCA:40.3   CCC:14.7\n",
        "M.lig: CCT:14.4   CCG:43.2   CCA:19.9   CCC:22.5\n",
        "\n",
        "S\n",
        "M.pus: AGC:23.8   AGT:16.6   TCG:9.6   TCA:26.0   TCC:8.8   TCT:15.2\n",
        "M.lig: AGC:30.6   AGT:8.6   TCG:20.0   TCA:10.0   TCC:19.3   TCT:11.3\n",
        "\n",
        "R\n",
        "M.pus: AGG:20.2   AGA:27.4   CGA:16.6   CGC:15.2   CGG:9.5   CGT:11.1\n",
        "M.lig: AGG:11.6   AGA:9.6   CGA:15.8   CGC:32.6   CGG:22.6   CGT:7.8\n",
        "\n",
        "T\n",
        "M.pus: ACT:30.9   ACA:40.6   ACG:13.1   ACC:15.5\n",
        "M.lig: ACT:25.4   ACA:15.7   ACG:21.3   ACC:37.6\n",
        "\n",
        "Y\n",
        "M.pus: TAT:63.8   TAC:36.2\n",
        "M.lig: TAT:27.2   TAC:72.8\n",
        "\n"
       ]
      }
     ],
     "prompt_number": 41
    }
   ],
   "metadata": {}
  }
 ]
}