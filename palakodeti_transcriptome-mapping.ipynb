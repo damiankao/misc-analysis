{
 "metadata": {
  "name": "",
  "signature": "sha256:2f1a6252bbb31d3a25ce6bfea622f35be652605e34f4caf0c5f65c6cdf8928b6"
 },
 "nbformat": 3,
 "nbformat_minor": 0,
 "worksheets": [
  {
   "cells": [
    {
     "cell_type": "markdown",
     "metadata": {},
     "source": [
      "# Mapping Oxford (Aboobaker) and Dresden (Rink) transcriptomes to planarian genome\n",
      "\n",
      "GMAP was used to map the transcriptomes to the genome using the following command:\n",
      "\n",
      "    gmap -D /home/share/genome/smed/gmap/smed.genome.3.1/ -d smed.genome.3.1 -f 2 dd_smed_v4.fa > dd_smed_v4.smed.genome.3.1.gff 2> gmap.err &\n",
      "    gmap -D /home/share/genome/smed/gmap/smed.genome.3.1/ -d smed.genome.3.1 -f 2 ox_Smed_v1.fa > ox_smed_v1.smed.genome.3.1.gff 2> gmap.err &\n",
      "    \n",
      "This produces 2 `.gff` files, which is then converted to a `.gtf` file. The `.gff` file contains more data on coverage, identity, coordinate of transcript mapping, etc. The `.gtf` file only contains the first loci the transcript mapped to.\n"
     ]
    },
    {
     "cell_type": "code",
     "collapsed": false,
     "input": [
      "import gzip, os, sys\n",
      "#import custom functions for displaying tables, bash commands\n",
      "sys.path.append(os.path.abspath(\"/home/damian/\"))\n",
      "from dk_ipython import *\n",
      "from IPython.display import HTML\n",
      "import pandas as pd\n",
      "import seaborn as sns\n",
      "import matplotlib.pyplot as plt\n",
      "import scipy.stats as ss\n",
      "import scipy as sp\n",
      "\n",
      "%matplotlib inline\n",
      "HTML(addToggle())"
     ],
     "language": "python",
     "metadata": {},
     "outputs": [
      {
       "html": [
        "<script>\n",
        "code_show=true;\n",
        "function code_toggle() {\n",
        " if (code_show){\n",
        " $('div.input').hide();\n",
        " } else {\n",
        " $('div.input').show();\n",
        " }\n",
        " code_show = !code_show\n",
        "}\n",
        "\n",
        "$( document ).ready(code_toggle);\n",
        "</script>\n",
        "The raw code for this IPython notebook is by default hidden for easier reading.\n",
        "To toggle on/off the raw code, click <a href=\"javascript:code_toggle()\">here</a>."
       ],
       "metadata": {},
       "output_type": "pyout",
       "prompt_number": 1,
       "text": [
        "<IPython.core.display.HTML at 0x3b516d0>"
       ]
      }
     ],
     "prompt_number": 1
    },
    {
     "cell_type": "markdown",
     "metadata": {},
     "source": [
      "### Oxford transcriptome mapping"
     ]
    },
    {
     "cell_type": "code",
     "collapsed": false,
     "input": [
      "from Bio import SeqIO\n",
      "prefix = '/home/share/transcriptome/smed/ox_smed_v1/'\n",
      "faFile = open(prefix + 'ox_Smed_v1.fa')\n",
      "oxLengths = []\n",
      "for record in SeqIO.parse(faFile,'fasta'):\n",
      "    oxLengths.append(len(str(record.seq)))\n",
      "\n",
      "gff = open(prefix + 'ox_smed_v1.smed.genome.3.1.gff').read().strip().split('###')[:-1]"
     ],
     "language": "python",
     "metadata": {},
     "outputs": [],
     "prompt_number": 62
    },
    {
     "cell_type": "code",
     "collapsed": false,
     "input": [
      "oxLengths = pd.Series(oxLengths)\n",
      "oxLengths[oxLengths < 1000].hist(bins=100, figsize=[8,4]).set_title('Oxford transcriptome length distribution')"
     ],
     "language": "python",
     "metadata": {},
     "outputs": [
      {
       "metadata": {},
       "output_type": "pyout",
       "prompt_number": 61,
       "text": [
        "<matplotlib.text.Text at 0x22f54ed0>"
       ]
      },
      {
       "metadata": {},
       "output_type": "display_data",
       "png": "[encoded data removed]",
       "text": [
        "<matplotlib.figure.Figure at 0x1a4bef90>"
       ]
      }
     ],
     "prompt_number": 61
    },
    {
     "cell_type": "code",
     "collapsed": false,
     "input": [
      "def convert(blocks):\n",
      "    out = ''\n",
      "    mapped = []\n",
      "    for block in blocks:\n",
      "        block = block.strip().split('\\n')\n",
      "        blockInfo = [x.split('=')[-1] for x in block[1].split('\\t')[-1].split(';')]\n",
      "        gid = blockInfo[1].split('=')[-1]\n",
      "        path = int(blockInfo[2].split('.')[-1][4:])\n",
      "        exonCount = 0\n",
      "        if path == 1:\n",
      "            for line in block:\n",
      "                meta = line.strip().split('\\t')\n",
      "                if meta[2] == 'exon':\n",
      "                    exonCount += 1\n",
      "                    out += '\\t'.join(meta[:-1]) + '\\tgene_id \"' + gid + '\"; transcript_id \"' + gid + '\";\\n'\n",
      "                if meta[2] == 'CDS':\n",
      "                    out += '\\t'.join(meta[:-1]) + '\\tgene_id \"' + gid + '\"; transcript_id \"' + gid + '\";\\n'\n",
      "            mapped.append((gid, exonCount, [float(x) for x in blockInfo[3:]]))\n",
      "            \n",
      "    print 'Number of transcripts mapped:', commas(len(mapped))\n",
      "    print 'Mean transcript coverage:', sum([x[2][0] for x in mapped]) / len(mapped)\n",
      "    print 'Mean mapping identity:', sum([x[2][1] for x in mapped]) / len(mapped)\n",
      "    print 'Mean number of exons:', sum([x[1] for x in mapped]) / float(len(mapped))\n",
      "    return out"
     ],
     "language": "python",
     "metadata": {},
     "outputs": [],
     "prompt_number": 45
    },
    {
     "cell_type": "code",
     "collapsed": false,
     "input": [
      "print \"Number of transcripts total:\", commas(len(oxLengths))\n",
      "ox_gtfOut = convert(gff)\n",
      "gtfOut = open(prefix + 'ox_smed_v1.smed.genome.3.1.gtf','w')\n",
      "gtfOut.write(ox_gtfOut)\n",
      "gtfOut.close()"
     ],
     "language": "python",
     "metadata": {},
     "outputs": [
      {
       "output_type": "stream",
       "stream": "stdout",
       "text": [
        "Number of transcripts total: 23,545\n",
        "Number of transcripts mapped:"
       ]
      },
      {
       "output_type": "stream",
       "stream": "stdout",
       "text": [
        " 23,348\n",
        "Mean transcript coverage: 80.4841827994\n",
        "Mean mapping identity: 98.8682713723\n",
        "Mean number of exons: 4.58086345726\n"
       ]
      }
     ],
     "prompt_number": 63
    },
    {
     "cell_type": "markdown",
     "metadata": {},
     "source": [
      "### Dresden transcriptome mapping"
     ]
    },
    {
     "cell_type": "code",
     "collapsed": false,
     "input": [
      "from Bio import SeqIO\n",
      "prefix = '/home/share/transcriptome/smed/dd_smed_v4/'\n",
      "faFile = open(prefix + 'dd_smed_v4.fa')\n",
      "ddLengths = []\n",
      "for record in SeqIO.parse(faFile,'fasta'):\n",
      "    ddLengths.append(len(str(record.seq)))\n",
      "\n",
      "gff = open(prefix + 'dd_smed_v4.smed.genome.3.1.gff').read().strip().split('###')[:-1]"
     ],
     "language": "python",
     "metadata": {},
     "outputs": [],
     "prompt_number": 48
    },
    {
     "cell_type": "code",
     "collapsed": false,
     "input": [
      "ddLengths = pd.Series(ddLengths)\n",
      "ddLengths[ddLengths < 1000].hist(bins=100, figsize=[8,4]).set_title('Dresden transcriptome length distribution')"
     ],
     "language": "python",
     "metadata": {},
     "outputs": [
      {
       "metadata": {},
       "output_type": "pyout",
       "prompt_number": 57,
       "text": [
        "<matplotlib.text.Text at 0x630abd0>"
       ]
      },
      {
       "metadata": {},
       "output_type": "display_data",
       "png": "[encoded data removed]",
       "text": [
        "<matplotlib.figure.Figure at 0x22398e10>"
       ]
      }
     ],
     "prompt_number": 57
    },
    {
     "cell_type": "code",
     "collapsed": false,
     "input": [
      "print \"Number of transcripts total:\", commas(len(ddLengths))\n",
      "ox_gtfOut = convert(gff)\n",
      "gtfOut = open(prefix + 'dd_smed_v4.smed.genome.3.1.gtf','w')\n",
      "gtfOut.write(ox_gtfOut)\n",
      "gtfOut.close()"
     ],
     "language": "python",
     "metadata": {},
     "outputs": [
      {
       "output_type": "stream",
       "stream": "stdout",
       "text": [
        "Number of transcripts total: 117,363\n",
        "Number of transcripts mapped:"
       ]
      },
      {
       "output_type": "stream",
       "stream": "stdout",
       "text": [
        " 81,420\n",
        "Mean transcript coverage: 90.351810366\n",
        "Mean mapping identity: 97.4394473102\n",
        "Mean number of exons: "
       ]
      },
      {
       "output_type": "stream",
       "stream": "stdout",
       "text": [
        "2.03994104643\n"
       ]
      }
     ],
     "prompt_number": 58
    }
   ],
   "metadata": {}
  }
 ]
}