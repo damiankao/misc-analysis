{
 "metadata": {
  "name": "",
  "signature": "sha256:45afe5eadf262b2a742d625cc9c4088640c6bc2b807cafd2a90f3790a69a3b8d"
 },
 "nbformat": 3,
 "nbformat_minor": 0,
 "worksheets": [
  {
   "cells": [
    {
     "cell_type": "code",
     "collapsed": false,
     "input": [
      "import gzip, os, sys\n",
      "#import custom functions for displaying tables, bash commands\n",
      "sys.path.append(os.path.abspath(\"/home/damian/\"))\n",
      "from dk_ipython import *\n",
      "from IPython.display import HTML\n",
      "import pandas as pd\n",
      "import seaborn as sns\n",
      "import matplotlib.pyplot as plt\n",
      "import scipy.stats as ss\n",
      "import scipy as sp\n",
      "\n",
      "%matplotlib inline\n",
      "HTML(addToggle())"
     ],
     "language": "python",
     "metadata": {},
     "outputs": [
      {
       "html": [
        "<script>\n",
        "code_show=true;\n",
        "function code_toggle() {\n",
        " if (code_show){\n",
        " $('div.input').hide();\n",
        " } else {\n",
        " $('div.input').show();\n",
        " }\n",
        " code_show = !code_show\n",
        "}\n",
        "\n",
        "$( document ).ready(code_toggle);\n",
        "</script>\n",
        "The raw code for this IPython notebook is by default hidden for easier reading.\n",
        "To toggle on/off the raw code, click <a href=\"javascript:code_toggle()\">here</a>."
       ],
       "metadata": {},
       "output_type": "pyout",
       "prompt_number": 1,
       "text": [
        "<IPython.core.display.HTML at 0x3439850>"
       ]
      }
     ],
     "prompt_number": 1
    },
    {
     "cell_type": "markdown",
     "metadata": {},
     "source": [
      "## S. aureus dataset from King's lab\n",
      "\n",
      "Raw reads data was downloaded from:\n",
      "    \n",
      "    http://www.ebi.ac.uk/ena/data/view/ERX594394\n",
      "    \n",
      "Aspera connect command used to download the data:\n",
      "\n",
      "    ~/.aspera/connect/bin/ascp -QT -l 1000m -i ~/.aspera/connect/etc/asperaweb_id_dsa.putty -T -k1 -r anonftp@ftp-trace.ncbi.nlm.nih.gov:/sra/sra-instant/reads/ByStudy/sra/ERP/ERP007/ERP007123/ .\n",
      "    \n",
      "fastq-dump was used to extract fastq files:\n",
      "\n",
      "    mv */*.sra .\n",
      "    ls *.fastq | parallel fastq-dump -I --split-files --gzip "
     ]
    },
    {
     "cell_type": "markdown",
     "metadata": {},
     "source": [
      "### K-mer multiplicity analysis"
     ]
    },
    {
     "cell_type": "code",
     "collapsed": false,
     "input": [
      "prefix = '/home/dylan/erfastq/'\n",
      "samples = '''anc\n",
      "coinf1\n",
      "coinf2\n",
      "coinf3\n",
      "coinf4\n",
      "coinf5\n",
      "coinf6\n",
      "sing1\n",
      "sing2\n",
      "sing3\n",
      "sing4\n",
      "sing5\n",
      "sing6'''.split('\\n')\n",
      "\n",
      "cmds = ''\n",
      "histocmds = ''\n",
      "for s in samples:\n",
      "    a = 'saur_s1_' + s + '_r1.fastq'\n",
      "    b = 'saur_s1_' + s + '_r2.fastq'\n",
      "    cmds += 'jellyfish count -C -m 30 -t 30 -s 1000000000 -o ' \\\n",
      "    + s + '.kmer.30.jf <(zcat ' + prefix + a + ')' + ' <(zcat ' + prefix + b + ')\\n'\n",
      "    histocmds += 'jellyfish histo -o ' + s + '.kmer.30.histo ' + s + '.kmer.30.jf' + '\\n'"
     ],
     "language": "python",
     "metadata": {},
     "outputs": [],
     "prompt_number": 24
    },
    {
     "cell_type": "code",
     "collapsed": false,
     "input": [
      "HTML(textarea('jellyfish commands on each sample',cmds))"
     ],
     "language": "python",
     "metadata": {},
     "outputs": [
      {
       "html": [
        "<b>jellyfish commands on each sample</b>:<br>\n",
        "<textarea style=\"width: 800px; height:200px\">\n",
        "jellyfish count -C -m 30 -t 30 -s 1000000000 -o anc.kmer.30.jf <(zcat /home/dylan/erfastq/saur_s1_anc_r1.fastq) <(zcat /home/dylan/erfastq/saur_s1_anc_r2.fastq)\n",
        "jellyfish count -C -m 30 -t 30 -s 1000000000 -o coinf1.kmer.30.jf <(zcat /home/dylan/erfastq/saur_s1_coinf1_r1.fastq) <(zcat /home/dylan/erfastq/saur_s1_coinf1_r2.fastq)\n",
        "jellyfish count -C -m 30 -t 30 -s 1000000000 -o coinf2.kmer.30.jf <(zcat /home/dylan/erfastq/saur_s1_coinf2_r1.fastq) <(zcat /home/dylan/erfastq/saur_s1_coinf2_r2.fastq)\n",
        "jellyfish count -C -m 30 -t 30 -s 1000000000 -o coinf3.kmer.30.jf <(zcat /home/dylan/erfastq/saur_s1_coinf3_r1.fastq) <(zcat /home/dylan/erfastq/saur_s1_coinf3_r2.fastq)\n",
        "jellyfish count -C -m 30 -t 30 -s 1000000000 -o coinf4.kmer.30.jf <(zcat /home/dylan/erfastq/saur_s1_coinf4_r1.fastq) <(zcat /home/dylan/erfastq/saur_s1_coinf4_r2.fastq)\n",
        "jellyfish count -C -m 30 -t 30 -s 1000000000 -o coinf5.kmer.30.jf <(zcat /home/dylan/erfastq/saur_s1_coinf5_r1.fastq) <(zcat /home/dylan/erfastq/saur_s1_coinf5_r2.fastq)\n",
        "jellyfish count -C -m 30 -t 30 -s 1000000000 -o coinf6.kmer.30.jf <(zcat /home/dylan/erfastq/saur_s1_coinf6_r1.fastq) <(zcat /home/dylan/erfastq/saur_s1_coinf6_r2.fastq)\n",
        "jellyfish count -C -m 30 -t 30 -s 1000000000 -o sing1.kmer.30.jf <(zcat /home/dylan/erfastq/saur_s1_sing1_r1.fastq) <(zcat /home/dylan/erfastq/saur_s1_sing1_r2.fastq)\n",
        "jellyfish count -C -m 30 -t 30 -s 1000000000 -o sing2.kmer.30.jf <(zcat /home/dylan/erfastq/saur_s1_sing2_r1.fastq) <(zcat /home/dylan/erfastq/saur_s1_sing2_r2.fastq)\n",
        "jellyfish count -C -m 30 -t 30 -s 1000000000 -o sing3.kmer.30.jf <(zcat /home/dylan/erfastq/saur_s1_sing3_r1.fastq) <(zcat /home/dylan/erfastq/saur_s1_sing3_r2.fastq)\n",
        "jellyfish count -C -m 30 -t 30 -s 1000000000 -o sing4.kmer.30.jf <(zcat /home/dylan/erfastq/saur_s1_sing4_r1.fastq) <(zcat /home/dylan/erfastq/saur_s1_sing4_r2.fastq)\n",
        "jellyfish count -C -m 30 -t 30 -s 1000000000 -o sing5.kmer.30.jf <(zcat /home/dylan/erfastq/saur_s1_sing5_r1.fastq) <(zcat /home/dylan/erfastq/saur_s1_sing5_r2.fastq)\n",
        "jellyfish count -C -m 30 -t 30 -s 1000000000 -o sing6.kmer.30.jf <(zcat /home/dylan/erfastq/saur_s1_sing6_r1.fastq) <(zcat /home/dylan/erfastq/saur_s1_sing6_r2.fastq)\n",
        "\n",
        "</textarea>"
       ],
       "metadata": {},
       "output_type": "pyout",
       "prompt_number": 25,
       "text": [
        "<IPython.core.display.HTML at 0x463fc10>"
       ]
      }
     ],
     "prompt_number": 25
    },
    {
     "cell_type": "code",
     "collapsed": false,
     "input": [
      "HTML(textarea('jellyfish histo commands on each sample',histocmds))"
     ],
     "language": "python",
     "metadata": {},
     "outputs": [
      {
       "html": [
        "<b>jellyfish histo commands on each sample</b>:<br>\n",
        "<textarea style=\"width: 800px; height:200px\">\n",
        "jellyfish histo -o anc.kmer.30.histo anc.kmer.30.jf\n",
        "jellyfish histo -o coinf1.kmer.30.histo coinf1.kmer.30.jf\n",
        "jellyfish histo -o coinf2.kmer.30.histo coinf2.kmer.30.jf\n",
        "jellyfish histo -o coinf3.kmer.30.histo coinf3.kmer.30.jf\n",
        "jellyfish histo -o coinf4.kmer.30.histo coinf4.kmer.30.jf\n",
        "jellyfish histo -o coinf5.kmer.30.histo coinf5.kmer.30.jf\n",
        "jellyfish histo -o coinf6.kmer.30.histo coinf6.kmer.30.jf\n",
        "jellyfish histo -o sing1.kmer.30.histo sing1.kmer.30.jf\n",
        "jellyfish histo -o sing2.kmer.30.histo sing2.kmer.30.jf\n",
        "jellyfish histo -o sing3.kmer.30.histo sing3.kmer.30.jf\n",
        "jellyfish histo -o sing4.kmer.30.histo sing4.kmer.30.jf\n",
        "jellyfish histo -o sing5.kmer.30.histo sing5.kmer.30.jf\n",
        "jellyfish histo -o sing6.kmer.30.histo sing6.kmer.30.jf\n",
        "\n",
        "</textarea>"
       ],
       "metadata": {},
       "output_type": "pyout",
       "prompt_number": 27,
       "text": [
        "<IPython.core.display.HTML at 0x463fb10>"
       ]
      }
     ],
     "prompt_number": 27
    },
    {
     "cell_type": "markdown",
     "metadata": {},
     "source": [
      "### K-mer spectra for each sample"
     ]
    },
    {
     "cell_type": "code",
     "collapsed": false,
     "input": [
      "def graphHisto(path,yl,t):\n",
      "    data = [(int(line.strip().split()[0]), int(line.strip().split()[1])) \\\n",
      "             for line in open(path)]\n",
      "\n",
      "    pd.Series([x[1] for x in data], index = [x[0] for x in data])[:300].plot(kind='area', alpha=0.3,\\\n",
      "                                                                                   figsize=[15,6], ylim=yl,title=t)"
     ],
     "language": "python",
     "metadata": {},
     "outputs": [],
     "prompt_number": 35
    },
    {
     "cell_type": "code",
     "collapsed": false,
     "input": [
      "graphHisto(prefix + 'anc.kmer.30.histo',[0,1e5],'anc')"
     ],
     "language": "python",
     "metadata": {},
     "outputs": [
      {
       "metadata": {},
       "output_type": "display_data",
       "png": "[encoded data removed]",
       "text": [
        "<matplotlib.figure.Figure at 0x6112d10>"
       ]
      }
     ],
     "prompt_number": 47
    },
    {
     "cell_type": "code",
     "collapsed": false,
     "input": [],
     "language": "python",
     "metadata": {},
     "outputs": []
    }
   ],
   "metadata": {}
  }
 ]
}