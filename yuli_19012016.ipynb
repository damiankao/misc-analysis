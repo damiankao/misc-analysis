{
 "metadata": {
  "name": "",
  "signature": "sha256:64bb1cfe30378586464e82390c833f51c8c1c91c53a36a7d75e6eb0617210876"
 },
 "nbformat": 3,
 "nbformat_minor": 0,
 "worksheets": [
  {
   "cells": [
    {
     "cell_type": "code",
     "collapsed": false,
     "input": [
      "import gzip, os, sys\n",
      "#import custom functions for displaying tables, bash commands\n",
      "sys.path.append(os.path.abspath(\"/home/damian/\"))\n",
      "from dk_ipython import *\n",
      "from IPython.display import HTML\n",
      "import pandas as pd\n",
      "import seaborn as sns\n",
      "import matplotlib.pyplot as plt\n",
      "import scipy.stats as ss\n",
      "import scipy as sp\n",
      "\n",
      "%matplotlib inline\n",
      "HTML(addToggle())"
     ],
     "language": "python",
     "metadata": {},
     "outputs": [
      {
       "html": [
        "<script>\n",
        "code_show=true;\n",
        "function code_toggle() {\n",
        " if (code_show){\n",
        " $('div.input').hide();\n",
        " } else {\n",
        " $('div.input').show();\n",
        " }\n",
        " code_show = !code_show\n",
        "}\n",
        "\n",
        "$( document ).ready(code_toggle);\n",
        "</script>\n",
        "The raw code for this IPython notebook is by default hidden for easier reading.\n",
        "To toggle on/off the raw code, click <a href=\"javascript:code_toggle()\">here</a>."
       ],
       "metadata": {},
       "output_type": "pyout",
       "prompt_number": 7,
       "text": [
        "<IPython.core.display.HTML at 0x7bb97d0>"
       ]
      }
     ],
     "prompt_number": 7
    },
    {
     "cell_type": "markdown",
     "metadata": {},
     "source": [
      "# X1 Chip-seq analysis\n",
      "\n",
      "Comparing Sanchez' x1 h3k4me3 vs our's. \n",
      "\n",
      "    SA\n",
      "    H3K4me3 X1 IP replicate 1, single-end, 76,372,406 reads\n",
      "    H3K4me3 X1 IP replicate 2, single-end, 71,527,329 reads\n",
      "    H3K4me3 X1 input replicate 1, single-end, 74,751,851 reads\n",
      "    H3K4me3 X1 input replicate 2, single-end, 74,264,034 reads\n",
      "\n",
      "    AA\n",
      "    H3K4me3 X1 IP, pair-end, 16,348,078 reads\n",
      "    H3K4me3 X1 input, pair-end, 14,317,006 reads\n",
      "\n",
      "For the SA samples, I used the peak files they uploaded into GEO. For our samples, I mapped with bowtie with the following command (specified in Sanchez' paper):\n",
      "\n",
      "    bowtie --best --strata -v 2 -m 2 bwt -1 read1 -2 read2 > lib.sam\n",
      "   \n",
      "Called peaks with MACS2:\n",
      "\n",
      "    macs2 callpeak --broad -t lib.sam -f SAM -g 895484558 --nomodel\n",
      " \n",
      "Additionally, I also called peaks on just our H3k4me3 input by itself as a negative control to see how it correlates with Sanchez' samples."
     ]
    },
    {
     "cell_type": "code",
     "collapsed": false,
     "input": [
      "from collections import defaultdict\n",
      "prefix = '/home/share/projects/smed_chipseq/'\n",
      "\n",
      "def parsePeak(line):\n",
      "    meta = line.strip().split()\n",
      "    ref = int(meta[0][6:])\n",
      "    if meta[0][0] == 'v':\n",
      "        ref = int(meta[0].split('.')[-1])\n",
      "\n",
      "    start = int(meta[1])\n",
      "    end = int(meta[2])\n",
      "    width = end - start\n",
      "    center = start + (width / 2)\n",
      "        \n",
      "    return (ref,start,end,width,center)\n"
     ],
     "language": "python",
     "metadata": {},
     "outputs": [],
     "prompt_number": 1
    },
    {
     "cell_type": "code",
     "collapsed": false,
     "input": [
      "AA_file = open(prefix + 'AA/NA_peaks.broadPeak')\n",
      "AAin_file = open(prefix + 'NA_peaks.broadPeak')\n",
      "SA_1_file = open(prefix + 'GSE74153_X1_1_peaks.bed')\n",
      "SA_2_file = open(prefix + 'GSE74153_X1_2_peaks.bed')\n",
      "\n",
      "peakData = defaultdict(list)\n",
      "\n",
      "for line in AA_file:\n",
      "    ref,start,end,width,center = parsePeak(line)\n",
      "    peakData[ref].append((center,width,start,end,'AA1'))\n",
      "    \n",
      "for line in AAin_file:\n",
      "    ref,start,end,width,center = parsePeak(line)\n",
      "    peakData[ref].append((center,width,start,end,'AAi'))\n",
      "    \n",
      "for line in SA_1_file:\n",
      "    ref,start,end,width,center = parsePeak(line)\n",
      "    peakData[ref].append((center,width,start,end,'SA1'))\n",
      "\n",
      "for line in SA_2_file:\n",
      "    ref,start,end,width,center = parsePeak(line)\n",
      "    peakData[ref].append((center,width,start,end,'SA2'))\n",
      "        \n",
      "AA_file.close()\n",
      "AAin_file.close()\n",
      "SA_1_file.close()\n",
      "SA_2_file.close()"
     ],
     "language": "python",
     "metadata": {},
     "outputs": [],
     "prompt_number": 9
    },
    {
     "cell_type": "code",
     "collapsed": false,
     "input": [
      "df_peakData = []\n",
      "for ref, data in peakData.items():\n",
      "    data.sort(key = lambda x : x[0])\n",
      "    \n",
      "    if len(data) > 1:\n",
      "        for a, itemA in enumerate(data):\n",
      "            dists = []\n",
      "            for b, itemB in enumerate(data):\n",
      "                if a != b:\n",
      "                    dists.append((abs(itemA[0] - itemB[0]),itemB[4]))\n",
      "                    \n",
      "            AA1_dists = [x[0] for x in dists if x[1] == 'AA1']\n",
      "            AAi_dists = [x[0] for x in dists if x[1] == 'AAi']\n",
      "            SA1_dists = [x[0] for x in dists if x[1] == 'SA1']\n",
      "            SA2_dists = [x[0] for x in dists if x[1] == 'SA2']\n",
      "            \n",
      "            AA1min = -1\n",
      "            AAimin = -1\n",
      "            SA1min = -1\n",
      "            SA2min = -1\n",
      "            \n",
      "            if len(AA1_dists) != 0:\n",
      "                AA1min = min(AA1_dists)\n",
      "                \n",
      "            if len(AAi_dists) != 0:\n",
      "                AAimin = min(AAi_dists)\n",
      "            \n",
      "            if len(SA1_dists) != 0:\n",
      "                SA1min = min(SA1_dists)\n",
      "                \n",
      "            if len(SA2_dists) != 0:\n",
      "                SA2min = min(SA2_dists)\n",
      "\n",
      "            df_peakData.append([ref,itemA[0],itemA[1],itemA[2],itemA[3],itemA[4],AA1min,AAimin,SA1min,SA2min])\n",
      "            \n",
      "    else:\n",
      "        df_peakData.append([ref, data[0][0],data[0][1],data[0][2],data[0][3],data[0][4],-1,-1,-1,-1])"
     ],
     "language": "python",
     "metadata": {},
     "outputs": [],
     "prompt_number": 10
    },
    {
     "cell_type": "code",
     "collapsed": false,
     "input": [
      "df_peakData = pd.DataFrame(df_peakData)"
     ],
     "language": "python",
     "metadata": {},
     "outputs": [],
     "prompt_number": 11
    },
    {
     "cell_type": "code",
     "collapsed": false,
     "input": [
      "df_peakData.columns = ['ref','center','width','start','end','dataset','AA1_nearest','AAi_nearest','SA1_nearest','SA2_nearest']"
     ],
     "language": "python",
     "metadata": {},
     "outputs": [],
     "prompt_number": 12
    },
    {
     "cell_type": "markdown",
     "metadata": {},
     "source": [
      "### Peak width distribution"
     ]
    },
    {
     "cell_type": "code",
     "collapsed": false,
     "input": [
      "print 'AA'\n",
      "df_peakData[df_peakData['dataset'] == 'AA1']['width'].hist(bins=100,figsize=[10,5])"
     ],
     "language": "python",
     "metadata": {},
     "outputs": [
      {
       "output_type": "stream",
       "stream": "stdout",
       "text": [
        "AA\n"
       ]
      },
      {
       "metadata": {},
       "output_type": "pyout",
       "prompt_number": 13,
       "text": [
        "<matplotlib.axes.AxesSubplot at 0x3769d50>"
       ]
      },
      {
       "metadata": {},
       "output_type": "display_data",
       "png": "[encoded data removed]",
       "text": [
        "<matplotlib.figure.Figure at 0x91f1f90>"
       ]
      }
     ],
     "prompt_number": 13
    },
    {
     "cell_type": "code",
     "collapsed": false,
     "input": [
      "print 'AA negative control'\n",
      "df_peakData[df_peakData['dataset'] == 'AAi']['width'].hist(bins=100,figsize=[10,5])"
     ],
     "language": "python",
     "metadata": {},
     "outputs": [
      {
       "output_type": "stream",
       "stream": "stdout",
       "text": [
        "AA negative control\n"
       ]
      },
      {
       "metadata": {},
       "output_type": "pyout",
       "prompt_number": 16,
       "text": [
        "<matplotlib.axes.AxesSubplot at 0x9391f10>"
       ]
      },
      {
       "metadata": {},
       "output_type": "display_data",
       "png": "[encoded data removed]",
       "text": [
        "<matplotlib.figure.Figure at 0x934cf90>"
       ]
      }
     ],
     "prompt_number": 16
    },
    {
     "cell_type": "code",
     "collapsed": false,
     "input": [
      "print 'SA1'\n",
      "df_peakData[df_peakData['dataset'] == 'SA1']['width'].hist(bins=100,figsize=[10,5])"
     ],
     "language": "python",
     "metadata": {},
     "outputs": [
      {
       "output_type": "stream",
       "stream": "stdout",
       "text": [
        "SA1\n"
       ]
      },
      {
       "metadata": {},
       "output_type": "pyout",
       "prompt_number": 14,
       "text": [
        "<matplotlib.axes.AxesSubplot at 0x663ed50>"
       ]
      },
      {
       "metadata": {},
       "output_type": "display_data",
       "png": "[encoded data removed]",
       "text": [
        "<matplotlib.figure.Figure at 0x91f19d0>"
       ]
      }
     ],
     "prompt_number": 14
    },
    {
     "cell_type": "code",
     "collapsed": false,
     "input": [
      "print 'SA2'\n",
      "df_peakData[df_peakData['dataset'] == 'SA2']['width'].hist(bins=100,figsize=[10,5])"
     ],
     "language": "python",
     "metadata": {},
     "outputs": [
      {
       "output_type": "stream",
       "stream": "stdout",
       "text": [
        "SA2\n"
       ]
      },
      {
       "metadata": {},
       "output_type": "pyout",
       "prompt_number": 15,
       "text": [
        "<matplotlib.axes.AxesSubplot at 0x6704d50>"
       ]
      },
      {
       "metadata": {},
       "output_type": "display_data",
       "png": "[encoded data removed]",
       "text": [
        "<matplotlib.figure.Figure at 0x948f910>"
       ]
      }
     ],
     "prompt_number": 15
    },
    {
     "cell_type": "markdown",
     "metadata": {},
     "source": [
      "### Correlation between samples\n",
      "\n",
      "Histogram of absolute distance between centers of nearest peaks."
     ]
    },
    {
     "cell_type": "code",
     "collapsed": false,
     "input": [
      "print 'Absolute distance of AA1 peak centers - nearest SA1 peak centers'\n",
      "print 'Total number of AA1 peaks:', len(df_peakData[df_peakData['dataset'] == 'AA1'])\n",
      "print 'Total number of SA1 peaks:', len(df_peakData[df_peakData['dataset'] == 'SA1'])\n",
      "print 'Number of AA1 peaks with no nearest SA1 peak:', len(df_peakData[df_peakData['dataset'] == 'AA1'][df_peakData['SA1_nearest'] == -1])\n",
      "df_peakData[df_peakData['dataset'] == 'AA1']\\\n",
      "[df_peakData['SA1_nearest'] < 1000]\\\n",
      "[df_peakData['SA1_nearest'] > 0]\\\n",
      "['SA1_nearest'].hist(bins=100,figsize=[10,5])"
     ],
     "language": "python",
     "metadata": {},
     "outputs": [
      {
       "output_type": "stream",
       "stream": "stdout",
       "text": [
        "Absolute distance of AA1 peak centers - nearest SA1 peak centers\n",
        "Total number of AA1 peaks: 9491\n",
        "Total number of SA1 peaks: 14340\n",
        "Number of AA1 peaks with no nearest SA1 peak: 456\n"
       ]
      },
      {
       "metadata": {},
       "output_type": "pyout",
       "prompt_number": 165,
       "text": [
        "<matplotlib.axes.AxesSubplot at 0x17130550>"
       ]
      },
      {
       "metadata": {},
       "output_type": "display_data",
       "png": "[encoded data removed]",
       "text": [
        "<matplotlib.figure.Figure at 0x17110410>"
       ]
      }
     ],
     "prompt_number": 165
    },
    {
     "cell_type": "code",
     "collapsed": false,
     "input": [
      "print 'Absolute distance of AA1 peak centers - nearest SA2 peak centers'\n",
      "print 'Total number of AA1 peaks:', len(df_peakData[df_peakData['dataset'] == 'AA1'])\n",
      "print 'Total number of SA2 peaks:', len(df_peakData[df_peakData['dataset'] == 'SA2'])\n",
      "print 'Number of AA1 peaks with no nearest SA2 peak:', len(df_peakData[df_peakData['dataset'] == 'AA1'][df_peakData['SA2_nearest'] == -1])\n",
      "df_peakData[df_peakData['dataset'] == 'AA1']\\\n",
      "[df_peakData['SA2_nearest'] < 1000]\\\n",
      "[df_peakData['SA2_nearest'] > 0]\\\n",
      "['SA2_nearest'].hist(bins=100,figsize=[10,5])"
     ],
     "language": "python",
     "metadata": {},
     "outputs": [
      {
       "output_type": "stream",
       "stream": "stdout",
       "text": [
        "Absolute distance of AA1 peak centers - nearest SA2 peak centers\n",
        "Total number of AA1 peaks: 9491\n",
        "Total number of SA2 peaks: 15633\n",
        "Number of AA1 peaks with no nearest SA2 peak: 366\n"
       ]
      },
      {
       "metadata": {},
       "output_type": "pyout",
       "prompt_number": 166,
       "text": [
        "<matplotlib.axes.AxesSubplot at 0x174b66d0>"
       ]
      },
      {
       "metadata": {},
       "output_type": "display_data",
       "png": "[encoded data removed]",
       "text": [
        "<matplotlib.figure.Figure at 0x17140750>"
       ]
      }
     ],
     "prompt_number": 166
    },
    {
     "cell_type": "code",
     "collapsed": false,
     "input": [
      "print 'Absolute distance of AA negative control peak centers - nearest SA1 peak centers'\n",
      "print 'Total number of AA neg peaks:', len(df_peakData[df_peakData['dataset'] == 'AAi'])\n",
      "print 'Total number of SA1 peaks:', len(df_peakData[df_peakData['dataset'] == 'SA1'])\n",
      "print 'Number of AA neg peaks with no nearest SA1 peak:', len(df_peakData[df_peakData['dataset'] == 'AAi'][df_peakData['SA1_nearest'] == -1])\n",
      "df_peakData[df_peakData['dataset'] == 'AAi']\\\n",
      "[df_peakData['SA1_nearest'] < 1000]\\\n",
      "[df_peakData['SA1_nearest'] > 0]\\\n",
      "['SA1_nearest'].hist(bins=100,figsize=[10,5])"
     ],
     "language": "python",
     "metadata": {},
     "outputs": [
      {
       "output_type": "stream",
       "stream": "stdout",
       "text": [
        "Absolute distance of AA negative control peak centers - nearest SA1 peak centers\n",
        "Total number of AA neg peaks: 65112\n",
        "Total number of SA1 peaks: 14340\n",
        "Number of AA neg peaks with no nearest SA1 peak: 20361\n"
       ]
      },
      {
       "metadata": {},
       "output_type": "pyout",
       "prompt_number": 18,
       "text": [
        "<matplotlib.axes.AxesSubplot at 0x5d92b10>"
       ]
      },
      {
       "metadata": {},
       "output_type": "display_data",
       "png": "[encoded data removed]",
       "text": [
        "<matplotlib.figure.Figure at 0x5b06590>"
       ]
      }
     ],
     "prompt_number": 18
    },
    {
     "cell_type": "code",
     "collapsed": false,
     "input": [
      "print 'Absolute distance of AA negative control peak centers - nearest SA2 peak centers'\n",
      "print 'Total number of AA neg peaks:', len(df_peakData[df_peakData['dataset'] == 'AAi'])\n",
      "print 'Total number of SA2 peaks:', len(df_peakData[df_peakData['dataset'] == 'SA2'])\n",
      "print 'Number of AA neg peaks with no nearest SA1 peak:', len(df_peakData[df_peakData['dataset'] == 'AAi'][df_peakData['SA2_nearest'] == -1])\n",
      "df_peakData[df_peakData['dataset'] == 'AAi']\\\n",
      "[df_peakData['SA2_nearest'] < 1000]\\\n",
      "[df_peakData['SA2_nearest'] > 0]\\\n",
      "['SA2_nearest'].hist(bins=100,figsize=[10,5])"
     ],
     "language": "python",
     "metadata": {},
     "outputs": [
      {
       "output_type": "stream",
       "stream": "stdout",
       "text": [
        "Absolute distance of AA negative control peak centers - nearest SA2 peak centers\n",
        "Total number of AA neg peaks: 65112\n",
        "Total number of SA2 peaks: 15633\n",
        "Number of AA neg peaks with no nearest SA1 peak: 18816\n"
       ]
      },
      {
       "metadata": {},
       "output_type": "pyout",
       "prompt_number": 19,
       "text": [
        "<matplotlib.axes.AxesSubplot at 0x5f3ff10>"
       ]
      },
      {
       "metadata": {},
       "output_type": "display_data",
       "png": "[encoded data removed]",
       "text": [
        "<matplotlib.figure.Figure at 0x548f9d0>"
       ]
      }
     ],
     "prompt_number": 19
    },
    {
     "cell_type": "code",
     "collapsed": false,
     "input": [
      "print 'Absolute distance of SA1 peak centers - nearest SA2 peak centers'\n",
      "print 'Total number of SA1 peaks:', len(df_peakData[df_peakData['dataset'] == 'SA1'])\n",
      "print 'Total number of SA2 peaks:', len(df_peakData[df_peakData['dataset'] == 'SA2'])\n",
      "print 'Number of SA1 peaks with no nearest SA2 peak:', len(df_peakData[df_peakData['dataset'] == 'SA1'][df_peakData['SA2_nearest'] == -1])\n",
      "\n",
      "df_peakData[df_peakData['dataset'] == 'SA1']\\\n",
      "[df_peakData['SA2_nearest'] < 1000]\\\n",
      "[df_peakData['SA2_nearest'] > 0]\\\n",
      "['SA2_nearest'].hist(bins=100,figsize=[10,5])"
     ],
     "language": "python",
     "metadata": {},
     "outputs": [
      {
       "output_type": "stream",
       "stream": "stdout",
       "text": [
        "Absolute distance of SA1 peak centers - nearest SA2 peak centers\n",
        "Total number of SA1 peaks: 14340\n",
        "Total number of SA2 peaks: 15633\n",
        "Number of SA1 peaks with no nearest SA2 peak: 61\n"
       ]
      },
      {
       "metadata": {},
       "output_type": "pyout",
       "prompt_number": 167,
       "text": [
        "<matplotlib.axes.AxesSubplot at 0x1744c090>"
       ]
      },
      {
       "metadata": {},
       "output_type": "display_data",
       "png": "[encoded data removed]",
       "text": [
        "<matplotlib.figure.Figure at 0x174c4890>"
       ]
      }
     ],
     "prompt_number": 167
    }
   ],
   "metadata": {}
  }
 ]
}